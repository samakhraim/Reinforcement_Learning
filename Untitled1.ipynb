{
 "cells": [
  {
   "cell_type": "code",
   "execution_count": 2,
   "metadata": {},
   "outputs": [
    {
     "name": "stdout",
     "output_type": "stream",
     "text": [
      "+---------+\n",
      "|\u001b[34;1mR\u001b[0m: | : :G|\n",
      "| : | : : |\n",
      "| : : : : |\n",
      "| | : | : |\n",
      "|\u001b[35m\u001b[43mY\u001b[0m\u001b[0m| : |B: |\n",
      "+---------+\n",
      "\n",
      "+---------+\n",
      "|R: | : :\u001b[35mG\u001b[0m|\n",
      "| : | : : |\n",
      "| :\u001b[43m \u001b[0m: : : |\n",
      "| | : | : |\n",
      "|Y| : |\u001b[34;1mB\u001b[0m: |\n",
      "+---------+\n",
      "\n"
     ]
    }
   ],
   "source": [
    "import gym\n",
    "import random\n",
    "\n",
    "#Red — 0 , Green — 1, Yellow — 2, and Blue — 3 for pick up\n",
    "streets = gym.make(\"Taxi-v3\").env #New versions keep getting released; if -v3 doesn't work, try -v2 or -v4\n",
    "streets.render()\n",
    "##Red — 0 , Green — 1, Yellow — 2, and Blue — 3 for pick up\n",
    "#Each state is defined by a 4 entries tuple: （taxi_row, taxi_col, passenger_location, destination)\n",
    "initial_state = streets.encode(2, 1, 3, 1)\n",
    "streets.s = initial_state\n",
    "streets.render()\n",
    "\n",
    "#State Space:  25 possible taxi positions, 5 possible locations of the passenger\n",
    "# 25*5*4 = 500 \n"
   ]
  },
  {
   "cell_type": "code",
   "execution_count": 3,
   "metadata": {},
   "outputs": [],
   "source": [
    "import numpy as np\n",
    "#Action space:6 --> N,S,E,W, DROP-OFF, PICKUP\n",
    "#Rewards: CORRECT FINAL DEST. +20, STEP -1, INCORRECT PICK/DROP -10\n",
    "\n",
    "q_table = np.zeros([streets.observation_space.n, streets.action_space.n]) # 500 , 6\n",
    "# a 2D array that represent every possible state and action in the virtual space and initialize all of them to 0\n",
    "G = 0\n",
    "learning_rate = 0.1\n",
    "discount_factor = 0.5\n",
    "exploration = 0.1\n",
    "epochs = 500\n",
    "\n",
    "for taxi_run in range(epochs): #Start training (the agent plays the number of epochs)\n",
    "    state = streets.reset()\n",
    "    done = False\n",
    "    G = 0\n",
    "    steps=0\n",
    "    while not done:#each epoch/play contains this number of actions, starting from pickup a passenger until drop-off\n",
    "        steps +=1\n",
    "        random_value = random.uniform(0, 1)\n",
    "        if (random_value < exploration):\n",
    "            action = streets.action_space.sample() # Explore a random action\n",
    "        else:\n",
    "            action = np.argmax(q_table[state]) # Return the action with the highest q-value\n",
    "            \n",
    "        next_state, reward, done, info = streets.step(action) # Do the above action\n",
    "        \n",
    "        prev_q = q_table[state, action]\n",
    "        next_max_q = np.max(q_table[next_state])\n",
    "        # see RL-2 PPT file --- slide# 5\n",
    "        new_q = (1 - learning_rate) * prev_q + learning_rate * (reward + discount_factor * next_max_q)\n",
    "        G += reward\n",
    "        q_table[state, action] = new_q\n",
    "        #streets.render()        \n",
    "        state = next_state"
   ]
  },
  {
   "cell_type": "code",
   "execution_count": 4,
   "metadata": {},
   "outputs": [
    {
     "name": "stdout",
     "output_type": "stream",
     "text": [
      "Trip number 10 Step 24\n",
      "+---------+\n",
      "|\u001b[34;1mR\u001b[0m: | : :\u001b[35mG\u001b[0m|\n",
      "| : | :\u001b[43m \u001b[0m: |\n",
      "| : : : : |\n",
      "| | : | : |\n",
      "|Y| : |B: |\n",
      "+---------+\n",
      "  (East)\n",
      "\n",
      "25.0\n"
     ]
    }
   ],
   "source": [
    "from IPython.display import clear_output\n",
    "from time import sleep\n",
    "lengths=[]\n",
    "for tripnum in range(1, 11):\n",
    "    state = streets.reset()\n",
    "   \n",
    "    done = False\n",
    "    trip_length = 0\n",
    "    \n",
    "    while not done and trip_length < 25:\n",
    "        action = np.argmax(q_table[state])\n",
    "        next_state, reward, done, info = streets.step(action)\n",
    "        clear_output(wait=True)\n",
    "        print(\"Trip number \" + str(tripnum) + \" Step \" + str(trip_length))\n",
    "        print(streets.render(mode='ansi'))\n",
    "        sleep(.2)\n",
    "        state = next_state\n",
    "        trip_length += 1\n",
    "    lengths.append(trip_length)\n",
    "    \n",
    "    sleep(.2)\n",
    "avg_len=sum(lengths)/10\n",
    "print(avg_len)"
   ]
  }
 ],
 "metadata": {
  "kernelspec": {
   "display_name": "Python 3",
   "language": "python",
   "name": "python3"
  },
  "language_info": {
   "codemirror_mode": {
    "name": "ipython",
    "version": 3
   },
   "file_extension": ".py",
   "mimetype": "text/x-python",
   "name": "python",
   "nbconvert_exporter": "python",
   "pygments_lexer": "ipython3",
   "version": "3.10.11"
  },
  "orig_nbformat": 4
 },
 "nbformat": 4,
 "nbformat_minor": 2
}
